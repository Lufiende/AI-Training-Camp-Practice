{
 "cells": [
  {
   "cell_type": "code",
   "execution_count": 1,
   "id": "3049d9d5-3322-4483-bdf1-59fe96017a2f",
   "metadata": {},
   "outputs": [],
   "source": [
    "import sys\n",
    "\n",
    "output_file = \"9x9.txt\"\n",
    "\n",
    "with open(output_file, 'w') as f:\n",
    "    origsysout = sys.stdout\n",
    "    sys.stdout = f\n",
    "\n",
    "    for i in range(1, 10):\n",
    "        for j in range(1, i+1):\n",
    "            print(f'{j}x{i}={i*j}\\t', end='')\n",
    "        print()\n",
    "\n",
    "sys.stdout = origsysout"
   ]
  },
  {
   "cell_type": "code",
   "execution_count": 2,
   "id": "8599b107-1a0f-487d-8314-4f46331574fe",
   "metadata": {},
   "outputs": [
    {
     "name": "stdout",
     "output_type": "stream",
     "text": [
      "1x1=1\t\n",
      "1x2=2\t2x2=4\t\n",
      "1x3=3\t2x3=6\t3x3=9\t\n",
      "1x4=4\t2x4=8\t3x4=12\t4x4=16\t\n",
      "1x5=5\t2x5=10\t3x5=15\t4x5=20\t5x5=25\t\n",
      "1x6=6\t2x6=12\t3x6=18\t4x6=24\t5x6=30\t6x6=36\t\n",
      "1x7=7\t2x7=14\t3x7=21\t4x7=28\t5x7=35\t6x7=42\t7x7=49\t\n",
      "1x8=8\t2x8=16\t3x8=24\t4x8=32\t5x8=40\t6x8=48\t7x8=56\t8x8=64\t\n",
      "1x9=9\t2x9=18\t3x9=27\t4x9=36\t5x9=45\t6x9=54\t7x9=63\t8x9=72\t9x9=81\t\n",
      "\n"
     ]
    }
   ],
   "source": [
    "output_file = \"9x9.txt\"\n",
    "content = ''\n",
    "\n",
    "with open(output_file, 'r') as f:\n",
    "    content = f.read()\n",
    "\n",
    "print(content)"
   ]
  },
  {
   "cell_type": "code",
   "execution_count": 3,
   "id": "061eebf6-ea3c-4dfb-bb94-a68ff489e68e",
   "metadata": {},
   "outputs": [
    {
     "name": "stdout",
     "output_type": "stream",
     "text": [
      "https://github.com/Lufiende/AI-Training-Camp-Practice\n"
     ]
    }
   ],
   "source": [
    "print(\"https://github.com/Lufiende/AI-Training-Camp-Practice\")"
   ]
  },
  {
   "cell_type": "code",
   "execution_count": null,
   "id": "04d37da1-5e11-408a-a0f5-91c9677680b2",
   "metadata": {},
   "outputs": [],
   "source": []
  }
 ],
 "metadata": {
  "kernelspec": {
   "display_name": "Python 3 (ipykernel)",
   "language": "python",
   "name": "python3"
  },
  "language_info": {
   "codemirror_mode": {
    "name": "ipython",
    "version": 3
   },
   "file_extension": ".py",
   "mimetype": "text/x-python",
   "name": "python",
   "nbconvert_exporter": "python",
   "pygments_lexer": "ipython3",
   "version": "3.12.4"
  }
 },
 "nbformat": 4,
 "nbformat_minor": 5
}
